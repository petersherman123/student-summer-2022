{
 "cells": [
  {
   "cell_type": "code",
   "execution_count": 13,
   "metadata": {},
   "outputs": [],
   "source": [
    "import intake\n",
    "import matplotlib.pyplot as plt\n",
    "import xarray as xr\n",
    "import dask"
   ]
  },
  {
   "cell_type": "code",
   "execution_count": 38,
   "metadata": {},
   "outputs": [],
   "source": [
    "cat = intake.open_esm_datastore(\n",
    "    'https://raw.githubusercontent.com/NCAR/cesm2-le-aws/main/intake-catalogs/aws-cesm2-le.json'\n",
    ")"
   ]
  },
  {
   "cell_type": "code",
   "execution_count": 46,
   "metadata": {},
   "outputs": [
    {
     "data": {
      "text/plain": [
       "array(['temperature', 'reference height temperature',\n",
       "       'minimum reference height temperature over output period',\n",
       "       'maximum reference height temperature over output period',\n",
       "       'surface temperature (radiative)',\n",
       "       'atmospheric rain, after rain/snow repartitioning based on temperature',\n",
       "       'atmospheric snow, after rain/snow repartitioning based on temperature',\n",
       "       'daily maximum of average 2-m temperature',\n",
       "       'potential temperature'], dtype=object)"
      ]
     },
     "execution_count": 46,
     "metadata": {},
     "output_type": "execute_result"
    }
   ],
   "source": [
    "cat.search(long_name=['temperature*', 'Temperature*']).df.long_name.unique()"
   ]
  },
  {
   "cell_type": "code",
   "execution_count": 60,
   "metadata": {},
   "outputs": [
    {
     "data": {
      "text/html": [
       "<div>\n",
       "<style scoped>\n",
       "    .dataframe tbody tr th:only-of-type {\n",
       "        vertical-align: middle;\n",
       "    }\n",
       "\n",
       "    .dataframe tbody tr th {\n",
       "        vertical-align: top;\n",
       "    }\n",
       "\n",
       "    .dataframe thead th {\n",
       "        text-align: right;\n",
       "    }\n",
       "</style>\n",
       "<table border=\"1\" class=\"dataframe\">\n",
       "  <thead>\n",
       "    <tr style=\"text-align: right;\">\n",
       "      <th></th>\n",
       "      <th>variable</th>\n",
       "      <th>long_name</th>\n",
       "      <th>component</th>\n",
       "      <th>experiment</th>\n",
       "      <th>forcing_variant</th>\n",
       "      <th>frequency</th>\n",
       "      <th>vertical_levels</th>\n",
       "      <th>spatial_domain</th>\n",
       "      <th>units</th>\n",
       "      <th>start_time</th>\n",
       "      <th>end_time</th>\n",
       "      <th>path</th>\n",
       "    </tr>\n",
       "  </thead>\n",
       "  <tbody>\n",
       "    <tr>\n",
       "      <th>0</th>\n",
       "      <td>TS</td>\n",
       "      <td>surface temperature (radiative)</td>\n",
       "      <td>atm</td>\n",
       "      <td>historical</td>\n",
       "      <td>cmip6</td>\n",
       "      <td>daily</td>\n",
       "      <td>1.0</td>\n",
       "      <td>global</td>\n",
       "      <td>K</td>\n",
       "      <td>1850-01-01 12:00:00</td>\n",
       "      <td>2014-12-31 12:00:00</td>\n",
       "      <td>s3://ncar-cesm2-lens/atm/daily/cesm2LE-histori...</td>\n",
       "    </tr>\n",
       "    <tr>\n",
       "      <th>1</th>\n",
       "      <td>TS</td>\n",
       "      <td>surface temperature (radiative)</td>\n",
       "      <td>atm</td>\n",
       "      <td>ssp370</td>\n",
       "      <td>cmip6</td>\n",
       "      <td>daily</td>\n",
       "      <td>1.0</td>\n",
       "      <td>global</td>\n",
       "      <td>K</td>\n",
       "      <td>2015-01-01 12:00:00</td>\n",
       "      <td>2100-12-31 12:00:00</td>\n",
       "      <td>s3://ncar-cesm2-lens/atm/daily/cesm2LE-ssp370-...</td>\n",
       "    </tr>\n",
       "  </tbody>\n",
       "</table>\n",
       "</div>"
      ],
      "text/plain": [
       "  variable                        long_name component  experiment  \\\n",
       "0       TS  surface temperature (radiative)       atm  historical   \n",
       "1       TS  surface temperature (radiative)       atm      ssp370   \n",
       "\n",
       "  forcing_variant frequency  vertical_levels spatial_domain units  \\\n",
       "0           cmip6     daily              1.0         global     K   \n",
       "1           cmip6     daily              1.0         global     K   \n",
       "\n",
       "            start_time             end_time  \\\n",
       "0  1850-01-01 12:00:00  2014-12-31 12:00:00   \n",
       "1  2015-01-01 12:00:00  2100-12-31 12:00:00   \n",
       "\n",
       "                                                path  \n",
       "0  s3://ncar-cesm2-lens/atm/daily/cesm2LE-histori...  \n",
       "1  s3://ncar-cesm2-lens/atm/daily/cesm2LE-ssp370-...  "
      ]
     },
     "execution_count": 60,
     "metadata": {},
     "output_type": "execute_result"
    }
   ],
   "source": [
    "# subset = cat.search(variable='TS',frequency='daily')\n",
    "subset = cat.search(variable='TS',frequency='daily',forcing_variant='cmip6')\n",
    "subset.df"
   ]
  },
  {
   "cell_type": "code",
   "execution_count": 61,
   "metadata": {},
   "outputs": [
    {
     "name": "stdout",
     "output_type": "stream",
     "text": [
      "\n",
      "--> The keys in the returned dictionary of datasets are constructed as follows:\n",
      "\t'component.experiment.frequency.forcing_variant'\n"
     ]
    },
    {
     "data": {
      "text/html": [
       "\n",
       "<style>\n",
       "    /* Turns off some styling */\n",
       "    progress {\n",
       "        /* gets rid of default border in Firefox and Opera. */\n",
       "        border: none;\n",
       "        /* Needs to be in here for Safari polyfill so background images work as expected. */\n",
       "        background-size: auto;\n",
       "    }\n",
       "    .progress-bar-interrupted, .progress-bar-interrupted::-webkit-progress-bar {\n",
       "        background: #F44336;\n",
       "    }\n",
       "</style>\n"
      ],
      "text/plain": [
       "<IPython.core.display.HTML object>"
      ]
     },
     "metadata": {},
     "output_type": "display_data"
    },
    {
     "data": {
      "text/html": [
       "\n",
       "    <div>\n",
       "      <progress value='2' class='' max='2' style='width:300px; height:20px; vertical-align: middle;'></progress>\n",
       "      100.00% [2/2 00:00<00:00]\n",
       "    </div>\n",
       "    "
      ],
      "text/plain": [
       "<IPython.core.display.HTML object>"
      ]
     },
     "metadata": {},
     "output_type": "display_data"
    }
   ],
   "source": [
    "with dask.config.set(**{'array.slicing.split_large_chunks': True}):\n",
    "    dsets = subset.to_dataset_dict()"
   ]
  },
  {
   "cell_type": "code",
   "execution_count": 67,
   "metadata": {},
   "outputs": [],
   "source": [
    "def subset_ds(ds):\n",
    "    # Subset for TBOT and choose Boulder, Colorado's lat and lon and convert to degC\n",
    "    da = ds.TS.sel(lat=40.015, lon=-105.2705, method='nearest') - 273.15\n",
    "    da = da.groupby('time.year').mean()\n",
    "\n",
    "    # Make sure that time is the format of a string\n",
    "    da['year'] = da.year.astype(int)\n",
    "\n",
    "    return da"
   ]
  },
  {
   "cell_type": "code",
   "execution_count": 68,
   "metadata": {},
   "outputs": [],
   "source": [
    "da = subset_ds(dsets['atm.ssp370.daily.cmip6'])"
   ]
  },
  {
   "cell_type": "code",
   "execution_count": null,
   "metadata": {},
   "outputs": [],
   "source": [
    "# Setup the figure\n",
    "fig = plt.figure(figsize=(12, 8))\n",
    "ax = plt.subplot(111)\n",
    "\n",
    "# Loop through and plot each member_id\n",
    "for member_id in da.member_id.values:\n",
    "    da.sel(member_id=member_id).plot(ax=ax, label=member_id)\n",
    "\n",
    "# Limit the axis from 2015 to 2100\n",
    "plt.xlim(2015, 2100)\n",
    "\n",
    "# Increase the ticksize\n",
    "plt.xticks(fontsize=14)\n",
    "plt.yticks(fontsize=14)\n",
    "\n",
    "# Add some labels and increase the size\n",
    "plt.xlabel('Year', fontsize=16)\n",
    "plt.ylabel('Temperature (degC)', fontsize=16)\n",
    "\n",
    "# Add a legend\n",
    "plt.legend(title='Member IDs', fontsize=12)\n",
    "\n",
    "# Add a title\n",
    "plt.title(\n",
    "    'Experiment: SSP370 \\n Forcing Variant: Smoothed Biomass \\n Control Branch Year: 1301 \\n 2015 - 2100',\n",
    "    fontsize=20,\n",
    ");\n"
   ]
  },
  {
   "cell_type": "code",
   "execution_count": null,
   "metadata": {},
   "outputs": [],
   "source": []
  }
 ],
 "metadata": {
  "kernelspec": {
   "display_name": "Python 3 (ipykernel)",
   "language": "python",
   "name": "python3"
  },
  "language_info": {
   "codemirror_mode": {
    "name": "ipython",
    "version": 3
   },
   "file_extension": ".py",
   "mimetype": "text/x-python",
   "name": "python",
   "nbconvert_exporter": "python",
   "pygments_lexer": "ipython3",
   "version": "3.10.4"
  }
 },
 "nbformat": 4,
 "nbformat_minor": 2
}
